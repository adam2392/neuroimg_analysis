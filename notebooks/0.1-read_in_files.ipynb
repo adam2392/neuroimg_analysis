{
 "cells": [
  {
   "cell_type": "code",
   "execution_count": 101,
   "metadata": {},
   "outputs": [],
   "source": [
    "import nibabel as nb\n",
    "import os\n",
    "import sys\n",
    "import numpy as np\n",
    "from pprint import pprint\n",
    "\n",
    "sys.path.append('../')\n",
    "\n",
    "from neuroimg.base.objects.neuroimaging.baseneuroimage import RegionIndexMapping, ColorLut\n",
    "from neuroimg.base.objects.neuroimaging.surface_object import GetSurface\n",
    "from neuroimg.base.objects.neuroimaging.dataset import StructuralDataset\n",
    "from neuroimg.base.objects.neuroimaging.baseneuroimage import pial_to_verts_and_triangs, read_cortical_region_mapping, \\\n",
    "    Hemisphere, RegionIndexMapping\n",
    "\n",
    "SUBCORTICAL_REG_INDS = [8, 10, 11, 12, 13, 16, 17, 18, 26, 47, 49, 50, 51, 52, 53, 54, 58]\n",
    "FS_LUT_LH_SHIFT = 1000\n",
    "FS_LUT_RH_SHIFT = 2000"
   ]
  },
  {
   "cell_type": "markdown",
   "metadata": {},
   "source": [
    "# Setup Data Directories"
   ]
  },
  {
   "cell_type": "code",
   "execution_count": 102,
   "metadata": {},
   "outputs": [
    {
     "name": "stdout",
     "output_type": "stream",
     "text": [
      "Subjects dir:  /home/adam2392/hdd/data/neuroimaging/freesurfer_output/la04/\n",
      "Lut Fsurfer:  /opt/freesurfer/FreeSurferColorLUT.txt\n",
      "Lut MRTRIX:  /opt/mrtrix3/share/mrtrix3/labelconvert/fs_default.txt\n"
     ]
    }
   ],
   "source": [
    "subjects_dir = \"/home/adam2392/hdd/data/neuroimaging/freesurfer_output/outputfiles/la04/\"\n",
    "subjects_dir = \"/home/adam2392/hdd/data/neuroimaging/freesurfer_output/la04/\"\n",
    "FREESURFER_HOME = os.getenv(\"FREESURFER_HOME\") or ''\n",
    "MRTRIX3_HOME = os.getenv(\"MRTRIX3_HOME\") or ''\n",
    "# define where lut files are\n",
    "lut_fs=os.path.join(FREESURFER_HOME, \"FreeSurferColorLUT.txt\")\n",
    "lut_target=os.path.join(MRTRIX3_HOME, \"share/mrtrix3/labelconvert/fs_default.txt\")\n",
    "\n",
    "surfdir = os.path.join(subjects_dir, \"surf\")\n",
    "subcortdir = os.path.join(subjects_dir, \"aseg2srf\")\n",
    "labeldir = os.path.join(subjects_dir, \"label\")\n",
    "\n",
    "source_lut = lut_fs\n",
    "target_lut = lut_target\n",
    "\n",
    "print(\"Subjects dir: \", subjects_dir)\n",
    "print(\"Lut Fsurfer: \", lut_fs)\n",
    "print(\"Lut MRTRIX: \", lut_target)"
   ]
  },
  {
   "cell_type": "code",
   "execution_count": 103,
   "metadata": {},
   "outputs": [],
   "source": [
    "hemisphere = 'rh'\n",
    "datafile = \"/home/adam2392/Documents/eztrackv2/labels/rh_lobes.annot\"\n",
    "\n",
    "lobelabeldir = \"/home/adam2392/Documents/eztrackv2/labels/\""
   ]
  },
  {
   "cell_type": "markdown",
   "metadata": {},
   "source": [
    "# Read In Files"
   ]
  },
  {
   "cell_type": "code",
   "execution_count": 104,
   "metadata": {},
   "outputs": [],
   "source": [
    "def get_cortical_regions(label_direc, region_index_mapping):\n",
    "    # get the cortical region mapping for left/right hemispheres\n",
    "    region_mapping_l = read_cortical_region_mapping(label_direc, Hemisphere.lh, region_index_mapping)\n",
    "    region_mapping_r = read_cortical_region_mapping(label_direc, Hemisphere.rh, region_index_mapping)\n",
    "\n",
    "    region_mappings = np.hstack([region_mapping_l, region_mapping_r])\n",
    "    \n",
    "    return region_mappings\n",
    "    \n",
    "def get_subcortical_regions(label_direc, subcort_surf_direc, region_index_mapping):\n",
    "    allregionmaps = []\n",
    "    \n",
    "    # loop through all SUBCORTICAL REGION INDICES\n",
    "    for fs_idx in SUBCORTICAL_REG_INDS:\n",
    "        conn_idx = region_index_mapping.source_to_target(fs_idx)\n",
    "        filename = os.path.join(subcort_surf_direc, 'aseg_%03d.srf' % fs_idx)\n",
    "        with open(filename, 'r') as f:\n",
    "            f.readline()\n",
    "            nverts, ntriangs = [int(n) for n in f.readline().strip().split(' ')]\n",
    "\n",
    "        vertices = np.genfromtxt(filename, dtype=float, skip_header=2, skip_footer=ntriangs, usecols=(0, 1, 2))\n",
    "        triangles = np.genfromtxt(filename, dtype=int, skip_header=2 + nverts, usecols=(0, 1, 2))\n",
    "            \n",
    "        region_mapping = conn_idx * np.ones(nverts, dtype=int)\n",
    "            \n",
    "        allregionmaps.append(region_mapping)\n",
    "    \n",
    "    region_mappings = np.hstack(allregionmaps)\n",
    "    return region_mappings\n",
    "    \n",
    "def read_cortical_lobe_mapping(datafile):\n",
    "    # read in region mapping\n",
    "    region_mapping, _, region_names = nb.freesurfer.io.read_annot(datafile)\n",
    "    region_mapping = region_mapping - 1\n",
    "    region_mapping[region_mapping == -2] = 0  # Unknown regions in hemispheres    \n",
    "    return region_mapping, region_names\n",
    "\n",
    "def get_cortical_lobes(label_direc):  \n",
    "    lhfilename = os.path.join(label_direc, 'lh' + \"_lobes.annot\")\n",
    "    rhfilename = os.path.join(label_direc, 'rh' + \"_lobes.annot\")\n",
    "    \n",
    "    # get the cortical region mapping for left/right hemispheres\n",
    "    region_mapping_l, region_names_l = read_cortical_lobe_mapping(lhfilename)\n",
    "    region_mapping_r, region_names_r = read_cortical_lobe_mapping(rhfilename)\n",
    "    region_mappings = np.hstack([region_mapping_l, region_mapping_r])\n",
    "    region_names = np.unique(np.hstack([region_names_l, region_names_r]))\n",
    "    return region_mappings, region_names\n",
    "\n",
    "def get_subcortical_lobes(label_direc):  \n",
    "    allregionmaps = []\n",
    "    \n",
    "    # loop through all SUBCORTICAL REGION INDICES\n",
    "    for fs_idx in SUBCORTICAL_REG_INDS:\n",
    "        conn_idx = region_index_mapping.source_to_target(fs_idx)\n",
    "        filename = os.path.join(subcort_surf_direc, 'aseg_%03d.srf' % fs_idx)\n",
    "        with open(filename, 'r') as f:\n",
    "            f.readline()\n",
    "            nverts, ntriangs = [int(n) for n in f.readline().strip().split(' ')]\n",
    "\n",
    "        vertices = np.genfromtxt(filename, dtype=float, skip_header=2, skip_footer=ntriangs, usecols=(0, 1, 2))\n",
    "        triangles = np.genfromtxt(filename, dtype=int, skip_header=2 + nverts, usecols=(0, 1, 2))\n",
    "            \n",
    "        region_mapping = conn_idx * np.ones(nverts, dtype=int)\n",
    "            \n",
    "        allregionmaps.append(region_mapping)\n",
    "        \n",
    "        \n",
    "    # get the cortical region mapping for left/right hemispheres\n",
    "    region_mapping_l, region_names_l = read_cortical_lobe_mapping(lhfilename)\n",
    "    region_mapping_r, region_names_r = read_cortical_lobe_mapping(rhfilename)\n",
    "    region_mappings = np.hstack([region_mapping_l, region_mapping_r])\n",
    "    region_names = np.unique(np.hstack([region_names_l, region_names_r]))\n",
    "    return region_mappings, region_names"
   ]
  },
  {
   "cell_type": "code",
   "execution_count": 105,
   "metadata": {},
   "outputs": [],
   "source": [
    "# create the region index mapping into the target lut space\n",
    "region_index_mapping = RegionIndexMapping(source_lut, target_lut)\n",
    "\n",
    "# compute the subcortical and cortical surfaces\n",
    "subcort_regionmapping = get_subcortical_regions(labeldir, subcortdir,region_index_mapping)\n",
    "cort_regionmapping = get_cortical_regions(labeldir,region_index_mapping)"
   ]
  },
  {
   "cell_type": "code",
   "execution_count": 106,
   "metadata": {},
   "outputs": [
    {
     "name": "stdout",
     "output_type": "stream",
     "text": [
      "[35 35 35 ... 49 49 49]\n",
      "[10 10 10 ... 60 60 60]\n",
      "92824 321851 414675\n",
      "[ 0 35 36 37 38 39 40 41 42 43 44 45 46 47 48 49 84] [ 0  1  2  3  4  5  6  7  8  9 10 11 12 13 14 15 16 17 18 19 20 21 22 23\n",
      " 24 25 26 27 28 29 30 31 32 33 34 50 51 52 53 54 55 56 57 58 59 60 61 62\n",
      " 63 64 65 66 67 68 69 70 71 72 73 74 75 76 77 78 79 80 81 82 83]\n"
     ]
    }
   ],
   "source": [
    "print(subcort_regionmapping)\n",
    "print(cort_regionmapping)\n",
    "\n",
    "print(len(subcort_regionmapping), len(cort_regionmapping), len(subcort_regionmapping)+len(cort_regionmapping))\n",
    "print(np.unique(subcort_regionmapping), np.unique(cort_regionmapping))"
   ]
  },
  {
   "cell_type": "code",
   "execution_count": 107,
   "metadata": {},
   "outputs": [],
   "source": [
    "# read lobe regions\n",
    "lobe_mappings, lobe_names = get_cortical_lobes(lobelabeldir)"
   ]
  },
  {
   "cell_type": "code",
   "execution_count": 108,
   "metadata": {},
   "outputs": [
    {
     "name": "stdout",
     "output_type": "stream",
     "text": [
      "[4 4 4 ... 0 0 0]\n",
      "[b'cingulate' b'corpuscallosum' b'frontal' b'insula' b'occipital'\n",
      " b'parahippocampalgyrus' b'parietal' b'temporal' b'unknown']\n",
      "321851\n"
     ]
    }
   ],
   "source": [
    "print(lobe_mappings)\n",
    "print(lobe_names)\n",
    "\n",
    "print(len(lobe_mappings))"
   ]
  },
  {
   "cell_type": "markdown",
   "metadata": {},
   "source": [
    "# Map Region Index to Lobe"
   ]
  },
  {
   "cell_type": "code",
   "execution_count": 88,
   "metadata": {},
   "outputs": [
    {
     "name": "stdout",
     "output_type": "stream",
     "text": [
      "[-2  0  1  2  4  5  6  7  8  9 10 11 12 13 14 15 16 17 18 19 20 21 22 23\n",
      " 24 25 26 27 28 29 30 31 32 33 34]\n",
      "[10 10 10 10 10 10 10 10 10 10 10 10 10 10 10 10 10 10 10 10 10 10 10 10\n",
      " 10 10 10 10 10 10 10 10 10 10 10 10 10 10 10 10 10 10 10 10 10 10 10 10\n",
      " 10 10]\n",
      "162425\n"
     ]
    }
   ],
   "source": [
    "# read in region mapping\n",
    "region_mapping, _, region_names = nb.freesurfer.io.read_annot(origannotfile)\n",
    "region_mapping = region_mapping - 1\n",
    "region_mapping[region_mapping == -1] = 0  # Unknown regions in hemispheres    \n",
    "\n",
    "print(np.unique(region_mapping))\n",
    "print(region_mapping[:50])\n",
    "print(len(region_mapping))"
   ]
  },
  {
   "cell_type": "code",
   "execution_count": 109,
   "metadata": {},
   "outputs": [
    {
     "name": "stdout",
     "output_type": "stream",
     "text": [
      "{0: array([b'cingulate'], dtype='|S23'),\n",
      " 1: array([b'parahippocampalgyrus'], dtype='|S23'),\n",
      " 2: array([b'insula'], dtype='|S23'),\n",
      " 3: array([b'cingulate'], dtype='|S23'),\n",
      " 4: array([b'occipital'], dtype='|S23'),\n",
      " 5: array([b'frontal'], dtype='|S23'),\n",
      " 6: array([b'frontal'], dtype='|S23'),\n",
      " 7: array([b'parietal'], dtype='|S23'),\n",
      " 8: array([b'parahippocampalgyrus'], dtype='|S23'),\n",
      " 9: array([b'insula'], dtype='|S23'),\n",
      " 10: array([b'occipital'], dtype='|S23'),\n",
      " 11: array([b'cingulate'], dtype='|S23'),\n",
      " 12: array([b'occipital'], dtype='|S23'),\n",
      " 13: array([b'cingulate'], dtype='|S23'),\n",
      " 14: array([b'parahippocampalgyrus'], dtype='|S23'),\n",
      " 15: array([b'frontal'], dtype='|S23'),\n",
      " 16: array([b'cingulate'], dtype='|S23'),\n",
      " 17: array([b'cingulate'], dtype='|S23'),\n",
      " 18: array([b'cingulate'], dtype='|S23'),\n",
      " 19: array([b'cingulate'], dtype='|S23'),\n",
      " 20: array([b'occipital'], dtype='|S23'),\n",
      " 21: array([b'parietal'], dtype='|S23'),\n",
      " 22: array([b'insula'], dtype='|S23'),\n",
      " 23: array([b'cingulate'], dtype='|S23'),\n",
      " 24: array([b'parietal'], dtype='|S23'),\n",
      " 25: array([b'insula'], dtype='|S23'),\n",
      " 26: array([b'cingulate'], dtype='|S23'),\n",
      " 27: array([b'cingulate'], dtype='|S23'),\n",
      " 28: array([b'parietal'], dtype='|S23'),\n",
      " 29: array([b'parahippocampalgyrus'], dtype='|S23'),\n",
      " 30: array([b'parietal'], dtype='|S23'),\n",
      " 31: array([b'cingulate'], dtype='|S23'),\n",
      " 32: array([b'frontal'], dtype='|S23'),\n",
      " 33: array([b'parahippocampalgyrus'], dtype='|S23'),\n",
      " 34: array([b'temporal'], dtype='|S23'),\n",
      " 50: array([b'parahippocampalgyrus'], dtype='|S23'),\n",
      " 51: array([b'insula'], dtype='|S23'),\n",
      " 52: array([b'cingulate'], dtype='|S23'),\n",
      " 53: array([b'occipital'], dtype='|S23'),\n",
      " 54: array([b'frontal'], dtype='|S23'),\n",
      " 55: array([b'frontal'], dtype='|S23'),\n",
      " 56: array([b'parietal'], dtype='|S23'),\n",
      " 57: array([b'parahippocampalgyrus'], dtype='|S23'),\n",
      " 58: array([b'insula'], dtype='|S23'),\n",
      " 59: array([b'occipital'], dtype='|S23'),\n",
      " 60: array([b'cingulate'], dtype='|S23'),\n",
      " 61: array([b'occipital'], dtype='|S23'),\n",
      " 62: array([b'cingulate'], dtype='|S23'),\n",
      " 63: array([b'parahippocampalgyrus'], dtype='|S23'),\n",
      " 64: array([b'frontal'], dtype='|S23'),\n",
      " 65: array([b'cingulate'], dtype='|S23'),\n",
      " 66: array([b'cingulate'], dtype='|S23'),\n",
      " 67: array([b'cingulate'], dtype='|S23'),\n",
      " 68: array([b'cingulate'], dtype='|S23'),\n",
      " 69: array([b'occipital'], dtype='|S23'),\n",
      " 70: array([b'parietal'], dtype='|S23'),\n",
      " 71: array([b'insula'], dtype='|S23'),\n",
      " 72: array([b'cingulate'], dtype='|S23'),\n",
      " 73: array([b'parietal'], dtype='|S23'),\n",
      " 74: array([b'insula'], dtype='|S23'),\n",
      " 75: array([b'cingulate'], dtype='|S23'),\n",
      " 76: array([b'cingulate'], dtype='|S23'),\n",
      " 77: array([b'parietal'], dtype='|S23'),\n",
      " 78: array([b'parahippocampalgyrus'], dtype='|S23'),\n",
      " 79: array([b'parietal'], dtype='|S23'),\n",
      " 80: array([b'cingulate'], dtype='|S23'),\n",
      " 81: array([b'frontal'], dtype='|S23'),\n",
      " 82: array([b'parahippocampalgyrus'], dtype='|S23'),\n",
      " 83: array([b'temporal'], dtype='|S23')}\n"
     ]
    }
   ],
   "source": [
    "lobe_to_regind_dict = {}\n",
    "\n",
    "# get unique region index on cortical\n",
    "for regind in np.unique(cort_regionmapping):\n",
    "    # get index where this region mapping ind occurs for cortical\n",
    "    ind = np.where(cort_regionmapping == regind)[0]\n",
    "    \n",
    "    # get the lobe name corresponding to that index in the lobe mapping\n",
    "    lobename = np.unique(lobe_names[lobe_mappings[ind]])\n",
    "    \n",
    "#     print(ind[0], regind, lobename)\n",
    "    lobe_to_regind_dict[regind] = lobename\n",
    "\n",
    "pprint(lobe_to_regind_dict)"
   ]
  },
  {
   "cell_type": "code",
   "execution_count": 64,
   "metadata": {},
   "outputs": [
    {
     "name": "stdout",
     "output_type": "stream",
     "text": [
      "['Unknown' 'ctx-lh-bankssts' 'ctx-lh-caudalanteriorcingulate'\n",
      " 'ctx-lh-caudalmiddlefrontal' 'ctx-lh-cuneus' 'ctx-lh-entorhinal'\n",
      " 'ctx-lh-fusiform' 'ctx-lh-inferiorparietal' 'ctx-lh-inferiortemporal'\n",
      " 'ctx-lh-isthmuscingulate' 'ctx-lh-lateraloccipital'\n",
      " 'ctx-lh-lateralorbitofrontal' 'ctx-lh-lingual'\n",
      " 'ctx-lh-medialorbitofrontal' 'ctx-lh-middletemporal'\n",
      " 'ctx-lh-parahippocampal' 'ctx-lh-paracentral' 'ctx-lh-parsopercularis'\n",
      " 'ctx-lh-parsorbitalis' 'ctx-lh-parstriangularis' 'ctx-lh-pericalcarine'\n",
      " 'ctx-lh-postcentral' 'ctx-lh-posteriorcingulate' 'ctx-lh-precentral'\n",
      " 'ctx-lh-precuneus' 'ctx-lh-rostralanteriorcingulate'\n",
      " 'ctx-lh-rostralmiddlefrontal' 'ctx-lh-superiorfrontal'\n",
      " 'ctx-lh-superiorparietal' 'ctx-lh-superiortemporal'\n",
      " 'ctx-lh-supramarginal' 'ctx-lh-frontalpole' 'ctx-lh-temporalpole'\n",
      " 'ctx-lh-transversetemporal' 'ctx-lh-insula' 'Left-Cerebellum-Cortex'\n",
      " 'Left-Thalamus-Proper' 'Left-Caudate' 'Left-Putamen' 'Left-Pallidum'\n",
      " 'Left-Hippocampus' 'Left-Amygdala' 'Left-Accumbens-area'\n",
      " 'Right-Thalamus-Proper' 'Right-Caudate' 'Right-Putamen' 'Right-Pallidum'\n",
      " 'Right-Hippocampus' 'Right-Amygdala' 'Right-Accumbens-area'\n",
      " 'ctx-rh-bankssts' 'ctx-rh-caudalanteriorcingulate'\n",
      " 'ctx-rh-caudalmiddlefrontal' 'ctx-rh-cuneus' 'ctx-rh-entorhinal'\n",
      " 'ctx-rh-fusiform' 'ctx-rh-inferiorparietal' 'ctx-rh-inferiortemporal'\n",
      " 'ctx-rh-isthmuscingulate' 'ctx-rh-lateraloccipital'\n",
      " 'ctx-rh-lateralorbitofrontal' 'ctx-rh-lingual'\n",
      " 'ctx-rh-medialorbitofrontal' 'ctx-rh-middletemporal'\n",
      " 'ctx-rh-parahippocampal' 'ctx-rh-paracentral' 'ctx-rh-parsopercularis'\n",
      " 'ctx-rh-parsorbitalis' 'ctx-rh-parstriangularis' 'ctx-rh-pericalcarine'\n",
      " 'ctx-rh-postcentral' 'ctx-rh-posteriorcingulate' 'ctx-rh-precentral'\n",
      " 'ctx-rh-precuneus' 'ctx-rh-rostralanteriorcingulate'\n",
      " 'ctx-rh-rostralmiddlefrontal' 'ctx-rh-superiorfrontal'\n",
      " 'ctx-rh-superiorparietal' 'ctx-rh-superiortemporal'\n",
      " 'ctx-rh-supramarginal' 'ctx-rh-frontalpole' 'ctx-rh-temporalpole'\n",
      " 'ctx-rh-transversetemporal' 'ctx-rh-insula' 'Right-Cerebellum-Cortex']\n"
     ]
    },
    {
     "name": "stderr",
     "output_type": "stream",
     "text": [
      "../neuroimg/base/objects/neuroimaging/baseneuroimage.py:107: VisibleDeprecationWarning: Reading unicode strings without specifying the encoding argument is deprecated. Set the encoding, use None for the system default.\n",
      "  table = np.genfromtxt(os.fspath(filename), encoding=\"bytes\", dtype=None)\n"
     ]
    }
   ],
   "source": [
    "print(region_index_mapping.trg_table.names)\n",
    "\n",
    "test =ColorLut(lut_fs)"
   ]
  },
  {
   "cell_type": "code",
   "execution_count": 67,
   "metadata": {},
   "outputs": [
    {
     "name": "stdout",
     "output_type": "stream",
     "text": [
      "['Unknown' 'ctx-lh-bankssts' 'ctx-lh-caudalanteriorcingulate'\n",
      " 'ctx-lh-caudalmiddlefrontal' 'ctx-lh-cuneus' 'ctx-lh-entorhinal'\n",
      " 'ctx-lh-fusiform' 'ctx-lh-inferiorparietal' 'ctx-lh-inferiortemporal'\n",
      " 'ctx-lh-isthmuscingulate' 'ctx-lh-lateraloccipital'\n",
      " 'ctx-lh-lateralorbitofrontal' 'ctx-lh-lingual'\n",
      " 'ctx-lh-medialorbitofrontal' 'ctx-lh-middletemporal'\n",
      " 'ctx-lh-parahippocampal' 'ctx-lh-paracentral' 'ctx-lh-parsopercularis'\n",
      " 'ctx-lh-parsorbitalis' 'ctx-lh-parstriangularis' 'ctx-lh-pericalcarine'\n",
      " 'ctx-lh-postcentral' 'ctx-lh-posteriorcingulate' 'ctx-lh-precentral'\n",
      " 'ctx-lh-precuneus' 'ctx-lh-rostralanteriorcingulate'\n",
      " 'ctx-lh-rostralmiddlefrontal' 'ctx-lh-superiorfrontal'\n",
      " 'ctx-lh-superiorparietal' 'ctx-lh-superiortemporal'\n",
      " 'ctx-lh-supramarginal' 'ctx-lh-frontalpole' 'ctx-lh-temporalpole'\n",
      " 'ctx-lh-transversetemporal' 'ctx-lh-insula' 'Left-Cerebellum-Cortex'\n",
      " 'Left-Thalamus-Proper' 'Left-Caudate' 'Left-Putamen' 'Left-Pallidum'\n",
      " 'Left-Hippocampus' 'Left-Amygdala' 'Left-Accumbens-area'\n",
      " 'Right-Thalamus-Proper' 'Right-Caudate' 'Right-Putamen' 'Right-Pallidum'\n",
      " 'Right-Hippocampus' 'Right-Amygdala' 'Right-Accumbens-area'\n",
      " 'ctx-rh-bankssts' 'ctx-rh-caudalanteriorcingulate'\n",
      " 'ctx-rh-caudalmiddlefrontal' 'ctx-rh-cuneus' 'ctx-rh-entorhinal'\n",
      " 'ctx-rh-fusiform' 'ctx-rh-inferiorparietal' 'ctx-rh-inferiortemporal'\n",
      " 'ctx-rh-isthmuscingulate' 'ctx-rh-lateraloccipital'\n",
      " 'ctx-rh-lateralorbitofrontal' 'ctx-rh-lingual'\n",
      " 'ctx-rh-medialorbitofrontal' 'ctx-rh-middletemporal'\n",
      " 'ctx-rh-parahippocampal' 'ctx-rh-paracentral' 'ctx-rh-parsopercularis'\n",
      " 'ctx-rh-parsorbitalis' 'ctx-rh-parstriangularis' 'ctx-rh-pericalcarine'\n",
      " 'ctx-rh-postcentral' 'ctx-rh-posteriorcingulate' 'ctx-rh-precentral'\n",
      " 'ctx-rh-precuneus' 'ctx-rh-rostralanteriorcingulate'\n",
      " 'ctx-rh-rostralmiddlefrontal' 'ctx-rh-superiorfrontal'\n",
      " 'ctx-rh-superiorparietal' 'ctx-rh-superiortemporal'\n",
      " 'ctx-rh-supramarginal' 'ctx-rh-frontalpole' 'ctx-rh-temporalpole'\n",
      " 'ctx-rh-transversetemporal' 'ctx-rh-insula' 'Right-Cerebellum-Cortex']\n",
      "['Unknown' 'Left-Cerebral-Exterior' 'Left-Cerebral-White-Matter' ...\n",
      " 'wm_rh_S_temporal_inf' 'wm_rh_S_temporal_sup'\n",
      " 'wm_rh_S_temporal_transverse']\n"
     ]
    }
   ],
   "source": [
    "print(ColorLut(lut_target).names)\n",
    "print(test.names)"
   ]
  },
  {
   "cell_type": "code",
   "execution_count": 37,
   "metadata": {},
   "outputs": [],
   "source": [
    "class ColorLut:\n",
    "    \"\"\"\n",
    "    Class wrapper for the color lookup table.\n",
    "\n",
    "    each column represents:\n",
    "    id, name, R, G, B, A, shortname\n",
    "    \"\"\"\n",
    "\n",
    "    def __init__(self, filename: os.PathLike):\n",
    "        table = np.genfromtxt(os.fspath(filename), dtype=None)\n",
    "\n",
    "        if len(table.dtype) == 6:\n",
    "            # id name R G B A\n",
    "            self.inds = table[table.dtype.names[0]]\n",
    "            self.names = table[table.dtype.names[1]].astype('U')\n",
    "            self.r = table[table.dtype.names[2]]\n",
    "            self.g = table[table.dtype.names[3]]\n",
    "            self.b = table[table.dtype.names[4]]\n",
    "            self.a = table[table.dtype.names[5]]\n",
    "            self.shortnames = np.zeros(len(self.names), dtype='U')\n",
    "\n",
    "        elif len(table.dtype) == 7:\n",
    "            # id shortname name R G B A\n",
    "            self.inds = table[table.dtype.names[0]]\n",
    "            self.shortnames = table[table.dtype.names[1]].astype('U')\n",
    "            self.names = table[table.dtype.names[2]].astype('U')\n",
    "            self.r = table[table.dtype.names[3]]\n",
    "            self.g = table[table.dtype.names[4]]\n",
    "            self.b = table[table.dtype.names[5]]\n",
    "            self.a = table[table.dtype.names[6]]\n",
    "\n",
    "            \n",
    "class RegionIndexMapping:\n",
    "    \"\"\"\n",
    "    Class wrapper for a region index mapping.\n",
    "\n",
    "    This maps each index of the source file to an index in the corresponding look up table.\n",
    "    \"\"\"\n",
    "\n",
    "    def __init__(self, color_lut_src_file: os.PathLike, color_lut_trg_file: os.PathLike):\n",
    "        \"\"\"\n",
    "        :param color_lut_src_file: The source lookup table\n",
    "        :param color_lut_trg_file: The target's lookup table.\n",
    "        \"\"\"\n",
    "        self.src_table = ColorLut(color_lut_src_file)\n",
    "        self.trg_table = ColorLut(color_lut_trg_file)\n",
    "\n",
    "        names_to_trg = dict(zip(self.trg_table.names, self.trg_table.inds))\n",
    "\n",
    "        self.src_to_trg = dict()\n",
    "        for src_ind, src_name in zip(self.src_table.inds, self.src_table.names):\n",
    "            trg_ind = names_to_trg.get(src_name, None)\n",
    "            if trg_ind is not None:\n",
    "                self.src_to_trg[src_ind] = trg_ind\n",
    "\n",
    "        self.unknown_ind = names_to_trg.get('Unknown', 0)  # zero as the default unknown area\n",
    "\n",
    "    def source_to_target(self, index):\n",
    "        return self.src_to_trg.get(index, self.unknown_ind)\n",
    "\n"
   ]
  },
  {
   "cell_type": "code",
   "execution_count": 80,
   "metadata": {},
   "outputs": [],
   "source": [
    "hemisphere = 'rh'\n",
    "datafile = \"/home/adam2392/Documents/eztrackv2/labels/rh_lobes.annot\"\n",
    "origannotfile = \"/home/adam2392/hdd/data/neuroimaging/freesurfer_output/outputfiles/la04/lh.aparc.annot\""
   ]
  },
  {
   "cell_type": "code",
   "execution_count": 50,
   "metadata": {},
   "outputs": [
    {
     "name": "stdout",
     "output_type": "stream",
     "text": [
      "(array([5, 5, 5, ..., 1, 1, 1], dtype=int32), array([[      25,        5,       25,        0,  1639705],\n",
      "       [     100,       25,        0,        0,     6500],\n",
      "       [     120,       70,       50,        0,  3294840],\n",
      "       [     220,       20,       10,        0,   660700],\n",
      "       [     140,       20,      140,        0,  9180300],\n",
      "       [     120,      100,       60,        0,  3957880],\n",
      "       [     140,      220,      220,        0, 14474380],\n",
      "       [      80,      160,       20,        0,  1351760],\n",
      "       [     255,      192,       32,        0,  2146559]], dtype=int32), [b'unknown', b'frontal', b'corpuscallosum', b'parahippocampalgyrus', b'cingulate', b'occipital', b'temporal', b'parietal', b'insula'])\n",
      "3\n"
     ]
    }
   ],
   "source": [
    "test = nb.freesurfer.io.read_annot(datafile)\n",
    "\n",
    "print(test)\n",
    "print(len(test))"
   ]
  },
  {
   "cell_type": "code",
   "execution_count": 53,
   "metadata": {},
   "outputs": [
    {
     "name": "stdout",
     "output_type": "stream",
     "text": [
      "159426\n",
      "36\n",
      "[-1  1  2  3  5  6  7  8  9 10 11 12 13 14 15 16 17 18 19 20 21 22 23 24\n",
      " 25 26 27 28 29 30 31 32 33 34 35]\n",
      "[b'unknown', b'bankssts', b'caudalanteriorcingulate', b'caudalmiddlefrontal', b'corpuscallosum', b'cuneus', b'entorhinal', b'fusiform', b'inferiorparietal', b'inferiortemporal', b'isthmuscingulate', b'lateraloccipital', b'lateralorbitofrontal', b'lingual', b'medialorbitofrontal', b'middletemporal', b'parahippocampal', b'paracentral', b'parsopercularis', b'parsorbitalis', b'parstriangularis', b'pericalcarine', b'postcentral', b'posteriorcingulate', b'precentral', b'precuneus', b'rostralanteriorcingulate', b'rostralmiddlefrontal', b'superiorfrontal', b'superiorparietal', b'superiortemporal', b'supramarginal', b'frontalpole', b'temporalpole', b'transversetemporal', b'insula']\n",
      "[11 11 11 ... 12 12 12]\n",
      "(36, 5)\n"
     ]
    }
   ],
   "source": [
    "test, colortable, region_names = nb.freesurfer.io.read_annot(origannotfile)\n",
    "\n",
    "print(len(test))\n",
    "print(len(region_names))\n",
    "print(np.unique(test))\n",
    "print(region_names)\n",
    "print(test)\n",
    "print(colortable.shape)"
   ]
  },
  {
   "cell_type": "code",
   "execution_count": 44,
   "metadata": {},
   "outputs": [
    {
     "name": "stdout",
     "output_type": "stream",
     "text": [
      "159426\n",
      "[ 0 50 52 53 54 55 56]\n",
      "[b'unknown', b'frontal', b'corpuscallosum', b'parahippocampalgyrus', b'cingulate', b'occipital', b'temporal', b'parietal', b'insula']\n",
      "[53 53 53 ... 50 50 50]\n"
     ]
    },
    {
     "name": "stderr",
     "output_type": "stream",
     "text": [
      "/home/adam2392/anaconda3/envs/neuroimgpipe/lib/python3.6/site-packages/ipykernel_launcher.py:10: VisibleDeprecationWarning: Reading unicode strings without specifying the encoding argument is deprecated. Set the encoding, use None for the system default.\n",
      "  # Remove the CWD from sys.path while we load stuff.\n"
     ]
    }
   ],
   "source": [
    "\n",
    "regionindexmapping = RegionIndexMapping(lut_fs, lut_target)\n",
    "region_mapping, region_names = read_cortical_lobe_mapping(datafile, hemisphere, regionindexmapping)\n",
    "\n",
    "print(len(region_mapping))\n",
    "print(np.unique(region_mapping))\n",
    "print(region_names)\n",
    "print(region_mapping)"
   ]
  },
  {
   "cell_type": "code",
   "execution_count": 41,
   "metadata": {},
   "outputs": [
    {
     "ename": "NameError",
     "evalue": "name 'Hemisphere' is not defined",
     "output_type": "error",
     "traceback": [
      "\u001b[0;31m---------------------------------------------------------------------------\u001b[0m",
      "\u001b[0;31mNameError\u001b[0m                                 Traceback (most recent call last)",
      "\u001b[0;32m<ipython-input-41-e55a1d1abf0f>\u001b[0m in \u001b[0;36m<module>\u001b[0;34m\u001b[0m\n\u001b[1;32m      1\u001b[0m def read_cortical_region_mapping(label_direc: os.PathLike, \n\u001b[0;32m----> 2\u001b[0;31m                                  \u001b[0mhemisphere\u001b[0m\u001b[0;34m:\u001b[0m \u001b[0mHemisphere\u001b[0m\u001b[0;34m,\u001b[0m\u001b[0;34m\u001b[0m\u001b[0;34m\u001b[0m\u001b[0m\n\u001b[0m\u001b[1;32m      3\u001b[0m                                  fs_to_conn: RegionIndexMapping) \\\n\u001b[1;32m      4\u001b[0m         \u001b[0;34m->\u001b[0m \u001b[0mnp\u001b[0m\u001b[0;34m.\u001b[0m\u001b[0mndarray\u001b[0m\u001b[0;34m:\u001b[0m\u001b[0;34m\u001b[0m\u001b[0;34m\u001b[0m\u001b[0m\n\u001b[1;32m      5\u001b[0m     \"\"\"\n",
      "\u001b[0;31mNameError\u001b[0m: name 'Hemisphere' is not defined"
     ]
    }
   ],
   "source": [
    "def read_cortical_region_mapping(label_direc: os.PathLike, \n",
    "                                 hemisphere: Hemisphere, \n",
    "                                 fs_to_conn: RegionIndexMapping) \\\n",
    "        -> np.ndarray:\n",
    "    \"\"\"\n",
    "    Reads the cortical region mapping file.\n",
    "\n",
    "    :param label_direc: Where the annotation label directory is\n",
    "    :param hemisphere: (Hemisphere) enumerator\n",
    "    :param fs_to_conn: (RegionIndexMapping)\n",
    "    :return:\n",
    "    \"\"\"\n",
    "    filename = os.path.join(label_direc, hemisphere.value + \".aparc.annot\")\n",
    "    region_mapping, _, _ = nibabel.freesurfer.io.read_annot(filename)\n",
    "\n",
    "    region_mapping[region_mapping == -1] = 0  # Unknown regions in hemispheres\n",
    "\n",
    "    # $FREESURFER_HOME/FreeSurferColorLUT.txt describes the shift\n",
    "    if hemisphere == Hemisphere.lh:\n",
    "        region_mapping += FS_LUT_LH_SHIFT\n",
    "    else:\n",
    "        region_mapping += FS_LUT_RH_SHIFT\n",
    "\n",
    "    fs_to_conn_fun = np.vectorize(lambda n: fs_to_conn.source_to_target(n))\n",
    "    region_mapping = fs_to_conn_fun(region_mapping)\n",
    "\n",
    "    return region_mapping\n"
   ]
  },
  {
   "cell_type": "code",
   "execution_count": null,
   "metadata": {},
   "outputs": [],
   "source": []
  }
 ],
 "metadata": {
  "kernelspec": {
   "display_name": "neuroimgpipe",
   "language": "python",
   "name": "neuroimgpipe"
  },
  "language_info": {
   "codemirror_mode": {
    "name": "ipython",
    "version": 3
   },
   "file_extension": ".py",
   "mimetype": "text/x-python",
   "name": "python",
   "nbconvert_exporter": "python",
   "pygments_lexer": "ipython3",
   "version": "3.6.7"
  }
 },
 "nbformat": 4,
 "nbformat_minor": 2
}
