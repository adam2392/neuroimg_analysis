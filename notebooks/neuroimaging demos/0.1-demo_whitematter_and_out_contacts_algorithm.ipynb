{
 "cells": [
  {
   "cell_type": "markdown",
   "metadata": {},
   "source": [
    "# Validation of White Matter and Out Contacts Algorithm\n",
    "\n",
    "2/7/19: Since we are interested in segmenting contacts in SEEG based on parcellation of white matter and brain mask.\n",
    "\n",
    "Inputs:\n",
    "- brain mask in native MRI space\n",
    "- white matter mask in native MRI space\n",
    "- contact coords in native MRI space\n",
    "\n",
    "Output:\n",
    "- list of contacts in white matter\n",
    "- list of contacts in out"
   ]
  },
  {
   "cell_type": "code",
   "execution_count": 8,
   "metadata": {},
   "outputs": [
    {
     "name": "stdout",
     "output_type": "stream",
     "text": [
      "The autoreload extension is already loaded. To reload it, use:\n",
      "  %reload_ext autoreload\n"
     ]
    }
   ],
   "source": [
    "import numpy as np\n",
    "import scipy\n",
    "import os\n",
    "import sys\n",
    "import nibabel as nb\n",
    "import json\n",
    "\n",
    "sys.path.append('../../')\n",
    "\n",
    "%matplotlib inline\n",
    "# import basic plotting\n",
    "import matplotlib\n",
    "import matplotlib.pyplot as plt\n",
    "import seaborn as sns\n",
    "from pprint import pprint\n",
    "\n",
    "# Import magic commands for jupyter notebook \n",
    "%load_ext autoreload\n",
    "%autoreload 2"
   ]
  },
  {
   "cell_type": "markdown",
   "metadata": {},
   "source": [
    "# Set Data Directories"
   ]
  },
  {
   "cell_type": "code",
   "execution_count": 10,
   "metadata": {},
   "outputs": [
    {
     "name": "stdout",
     "output_type": "stream",
     "text": [
      "['lh_native.pial', 'lh_native.asc', 'rh_native.pial', 'aparc.a2009s+aseg.native.mgz', 'wm_native.mgz', 'register.native.dat', 'norm.mgz', 'register.conformed.dat', 'aparc+aseg.native.mgz', 'desikan_native.mgz', 'aseg.mgz', 'rh_native.asc', 'destrieux_native.mgz', 'brainmask_native.mgz', 'brainmask_native_inct.nii.gz', 'brainmask_native.nii.gz', 'fsl_brainmask_to_ct_omat.txt']\n",
      "['connectivity_dk.zip', 'surface_cort.zip', 'connectivity_destrieux.zip', 'surface_subcort.zip', 'region_mapping_cort.txt', 'region_mapping_subcort.txt']\n"
     ]
    }
   ],
   "source": [
    "datadir = \"/Users/adam2392/Dropbox/phd_research/data/neuroimaging_results/freesurfer_output/outputfiles/\"\n",
    "patid = \"la04\"\n",
    "\n",
    "patdir = os.path.join(datadir, patid, \"tvb\", \"native-space\")\n",
    "nativedir = os.path.join(datadir, patid, \"nativespace-transform\")\n",
    "coregistrationdir = os.path.join(datadir, patid, \"coregistration\")\n",
    "\n",
    "print(os.listdir(nativedir))\n",
    "print(os.listdir(patdir))"
   ]
  },
  {
   "cell_type": "code",
   "execution_count": 12,
   "metadata": {},
   "outputs": [],
   "source": [
    "brainmask_file = os.path.join(nativedir, \"brainmask_native.nii.gz\")\n",
    "wmmask_file = os.path.join(nativedir, \"wm_native.mgz\")\n",
    "contactcoords_file = os.path.join(coregistrationdir, \"{}_native_flirt_elec_xyz.txt\".format(patid))"
   ]
  },
  {
   "cell_type": "markdown",
   "metadata": {},
   "source": [
    "# Load Data"
   ]
  },
  {
   "cell_type": "code",
   "execution_count": null,
   "metadata": {},
   "outputs": [],
   "source": []
  },
  {
   "cell_type": "markdown",
   "metadata": {},
   "source": [
    "# Define Algorithm to Map Contacts to Outside"
   ]
  },
  {
   "cell_type": "code",
   "execution_count": null,
   "metadata": {},
   "outputs": [],
   "source": []
  }
 ],
 "metadata": {
  "kernelspec": {
   "display_name": "eztrack",
   "language": "python",
   "name": "eztrack"
  },
  "language_info": {
   "codemirror_mode": {
    "name": "ipython",
    "version": 3
   },
   "file_extension": ".py",
   "mimetype": "text/x-python",
   "name": "python",
   "nbconvert_exporter": "python",
   "pygments_lexer": "ipython3",
   "version": "3.6.8"
  }
 },
 "nbformat": 4,
 "nbformat_minor": 2
}
