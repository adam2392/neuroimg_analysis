{
 "cells": [
  {
   "cell_type": "markdown",
   "metadata": {},
   "source": [
    "# Demo of Computing Volume From Freesurfer Stats Files"
   ]
  },
  {
   "cell_type": "code",
   "execution_count": 1,
   "metadata": {},
   "outputs": [],
   "source": [
    "import numpy as np\n",
    "import os\n",
    "import sys\n",
    "import pandas as pd\n",
    "import numpy as np\n",
    "import nibabel as nb"
   ]
  },
  {
   "cell_type": "code",
   "execution_count": 2,
   "metadata": {},
   "outputs": [],
   "source": [
    "# data directory of stats files\n",
    "patid = 'la03'\n",
    "datadir = os.path.join(\"/home/adam2392/hdd/data/neuroimaging/freesurfer_output/\", patid)\n",
    "# datadir = os.path.join(\"/Users/adam2392/Dropbox/phd_research/data/neuroimaging_results/freesurfer_output/\", patid)\n",
    "\n",
    "statsdir = os.path.join(datadir, \"stats\")"
   ]
  },
  {
   "cell_type": "code",
   "execution_count": 20,
   "metadata": {},
   "outputs": [],
   "source": [
    "# extract arguments from parser\n",
    "lh_atlas_stats_file = os.path.join(statsdir, \"lh.aparc.stats\")\n",
    "rh_atlas_stats_file = os.path.join(statsdir, \"rh.aparc.stats\")\n",
    "wm_stats_file = os.path.join(statsdir, \"wmparc.stats\")\n",
    "subcort_stats_file = os.path.join(statsdir, \"aseg.stats\")\n",
    "\n",
    "trglutfile = os.path.join(\"/Users/adam2392/Documents/neuroimg_pipeline/data/mrtrix3_labelconvert\", \"fs_default.txt\")\n",
    "srclutfile = os.path.join(\"/Users/adam2392/Documents/neuroimg_pipeline/data/\")\n",
    "\n",
    "trglutfile = os.path.join(\"/home/adam2392/Documents/neuroimg_pipeline/data/mrtrix3_labelconvert/fs_default.txt\")\n",
    "srclutfile = os.path.join(\"/home/adam2392/Documents/neuroimg_pipeline/data/FreeSurferColorLUT.txt\")\n",
    "                          \n",
    "outdir = \"./\""
   ]
  },
  {
   "cell_type": "markdown",
   "metadata": {},
   "source": [
    "# Read in Files"
   ]
  },
  {
   "cell_type": "code",
   "execution_count": 5,
   "metadata": {},
   "outputs": [],
   "source": [
    "table = np.genfromtxt(os.fspath(trglutfile), encoding=\"latin1\", dtype=None)\n",
    "if len(table.dtype) == 6:\n",
    "    # id name R G B A\n",
    "    inds = table[table.dtype.names[0]]\n",
    "    names = table[table.dtype.names[1]].astype('U')\n",
    "    r = table[table.dtype.names[2]]\n",
    "    g = table[table.dtype.names[3]]\n",
    "    b = table[table.dtype.names[4]]\n",
    "    a = table[table.dtype.names[5]]\n",
    "    shortnames = np.zeros(len(self.names), dtype='U')\n",
    "\n",
    "elif len(table.dtype) == 7:\n",
    "    # id shortname name R G B A\n",
    "    inds = table[table.dtype.names[0]]\n",
    "    shortnames = table[table.dtype.names[1]].astype('U')\n",
    "    names = table[table.dtype.names[2]].astype('U')\n",
    "    r = table[table.dtype.names[3]]\n",
    "    g = table[table.dtype.names[4]]\n",
    "    b = table[table.dtype.names[5]]\n",
    "    a = table[table.dtype.names[6]]"
   ]
  },
  {
   "cell_type": "code",
   "execution_count": 10,
   "metadata": {},
   "outputs": [],
   "source": [
    "# print(table)"
   ]
  },
  {
   "cell_type": "code",
   "execution_count": 59,
   "metadata": {},
   "outputs": [],
   "source": [
    "class FSCorticalStats():\n",
    "    \"\"\"\n",
    "          \n",
    "    # StructName NumVert SurfArea GrayVol ThickAvg ThickStd MeanCurv GausCurv FoldInd CurvInd\n",
    "    \"\"\"\n",
    "    def __init__(self, filepath):\n",
    "        self.table = np.genfromtxt(filepath, encoding=\"latin1\", dtype=None)\n",
    "    \n",
    "    @property\n",
    "    def numverts(self):\n",
    "        return self.table[table.dtype.names[1]]\n",
    "    \n",
    "    @property\n",
    "    def names(self):\n",
    "        return self.table[table.dtype.names[0]].astype('U')\n",
    "    \n",
    "    @property\n",
    "    def surfareas(self):\n",
    "        return self.table[table.dtype.names[2]]\n",
    "    \n",
    "    @property\n",
    "    def volumes(self):\n",
    "        return self.table[table.dtype.names[3]]\n",
    "    \n",
    "    def set_table_components(self):\n",
    "        self.name = table[table.dtype.names[0]]\n",
    "            \n",
    "    def create_summary_stats(self, inds, statsobj):\n",
    "        volumes = {}\n",
    "\n",
    "        # for each of the indices, create metric measurements lists\n",
    "        for ind in inds:\n",
    "            volumes[statsobj.names[ind]] = statsobj.volumes[ind]\n",
    "\n",
    "        return volumes\n",
    "    \n",
    "class FSSegmentationStats():\n",
    "    \"\"\"\n",
    "     Index SegId NVoxels Volume_mm3 StructName normMean normStdDev normMin normMax normRange  \n",
    "    \"\"\"\n",
    "    def __init__(self, filepath):\n",
    "        self.table = np.genfromtxt(filepath, encoding=\"latin1\", dtype=None)\n",
    "    \n",
    "    @property\n",
    "    def indices(self):\n",
    "        # begin indices at 0\n",
    "        return self.table[table.dtype.names[0]] - 1\n",
    "    \n",
    "    @property\n",
    "    def segindices(self):\n",
    "        # begin indices at 0\n",
    "        return self.table[table.dtype.names[1]] \n",
    "    \n",
    "    @property\n",
    "    def numvoxels(self):\n",
    "        return self.table[table.dtype.names[2]]\n",
    "    \n",
    "    @property\n",
    "    def volumes(self):\n",
    "        return self.table[table.dtype.names[3]]\n",
    "    \n",
    "    @property\n",
    "    def names(self):\n",
    "        return self.table[table.dtype.names[4]].astype('U')"
   ]
  },
  {
   "cell_type": "code",
   "execution_count": 60,
   "metadata": {},
   "outputs": [
    {
     "name": "stdout",
     "output_type": "stream",
     "text": [
      "34 34 45\n",
      "113\n",
      "70\n"
     ]
    }
   ],
   "source": [
    "lhstats_df = FSCorticalStats(lh_atlas_stats_file)\n",
    "rhstats_df = FSCorticalStats(rh_atlas_stats_file)\n",
    "subcortstats_df = FSSegmentationStats(subcort_stats_file)\n",
    "wmstats_df = FSSegmentationStats(wm_stats_file)\n",
    "print(len(lhstats_df.names), len(rhstats_df.names), len(subcortstats_df.names))\n",
    "print(34+34+45)\n",
    "print(len(wmstats_df.names))"
   ]
  },
  {
   "cell_type": "markdown",
   "metadata": {},
   "source": [
    "# Map from FS LUT -> MRTRIx3 LUT\n",
    "\n",
    "Since most of our data for say a desikan atlas is in the MRTrix3 LUT index system (0-84), then we want to assign that corresponding index to each structure name in the computed volume statistics."
   ]
  },
  {
   "cell_type": "code",
   "execution_count": 65,
   "metadata": {},
   "outputs": [],
   "source": [
    "def create_volume_dict(fsobjs, ordering=[]):\n",
    "    volumes = {}\n",
    "\n",
    "    for j, obj in enumerate(fsobjs):\n",
    "        if ordering:\n",
    "            currorder = ordering[j]\n",
    "        else:\n",
    "            currorder = ''\n",
    "            \n",
    "        for idx, name in enumerate(obj.names):\n",
    "            volumes[currorder+name] = obj.volumes[idx]\n",
    "\n",
    "    return volumes"
   ]
  },
  {
   "cell_type": "code",
   "execution_count": 67,
   "metadata": {},
   "outputs": [
    {
     "name": "stdout",
     "output_type": "stream",
     "text": [
      "{'lh-bankssts': 2076, 'lh-caudalanteriorcingulate': 1196, 'lh-caudalmiddlefrontal': 6618, 'lh-cuneus': 3582, 'lh-entorhinal': 2594, 'lh-fusiform': 10682, 'lh-inferiorparietal': 13833, 'lh-inferiortemporal': 15346, 'lh-isthmuscingulate': 3014, 'lh-lateraloccipital': 14637, 'lh-lateralorbitofrontal': 8638, 'lh-lingual': 9801, 'lh-medialorbitofrontal': 5807, 'lh-middletemporal': 13020, 'lh-parahippocampal': 1821, 'lh-paracentral': 5331, 'lh-parsopercularis': 5441, 'lh-parsorbitalis': 2257, 'lh-parstriangularis': 3848, 'lh-pericalcarine': 2575, 'lh-postcentral': 11390, 'lh-posteriorcingulate': 2979, 'lh-precentral': 14113, 'lh-precuneus': 11331, 'lh-rostralanteriorcingulate': 2307, 'lh-rostralmiddlefrontal': 15982, 'lh-superiorfrontal': 22208, 'lh-superiorparietal': 14052, 'lh-superiortemporal': 10212, 'lh-supramarginal': 12817, 'lh-frontalpole': 988, 'lh-temporalpole': 2601, 'lh-transversetemporal': 692, 'lh-insula': 7688, 'rh-bankssts': 2691, 'rh-caudalanteriorcingulate': 1340, 'rh-caudalmiddlefrontal': 6590, 'rh-cuneus': 4086, 'rh-entorhinal': 2031, 'rh-fusiform': 11981, 'rh-inferiorparietal': 16216, 'rh-inferiortemporal': 12013, 'rh-isthmuscingulate': 2330, 'rh-lateraloccipital': 16219, 'rh-lateralorbitofrontal': 7645, 'rh-lingual': 8339, 'rh-medialorbitofrontal': 6460, 'rh-middletemporal': 14062, 'rh-parahippocampal': 2155, 'rh-paracentral': 5332, 'rh-parsopercularis': 4988, 'rh-parsorbitalis': 2720, 'rh-parstriangularis': 5832, 'rh-pericalcarine': 3241, 'rh-postcentral': 10774, 'rh-posteriorcingulate': 1711, 'rh-precentral': 12803, 'rh-precuneus': 11147, 'rh-rostralanteriorcingulate': 1363, 'rh-rostralmiddlefrontal': 17763, 'rh-superiorfrontal': 18864, 'rh-superiorparietal': 14885, 'rh-superiortemporal': 12790, 'rh-supramarginal': 10611, 'rh-frontalpole': 1636, 'rh-temporalpole': 2451, 'rh-transversetemporal': 967, 'rh-insula': 8158, 'Left-Lateral-Ventricle': 17004.2, 'Left-Inf-Lat-Vent': 165.4, 'Left-Cerebellum-White-Matter': 17202.0, 'Left-Cerebellum-Cortex': 52608.1, 'Left-Thalamus-Proper': 8626.4, 'Left-Caudate': 4882.3, 'Left-Putamen': 5332.4, 'Left-Pallidum': 2447.3, '3rd-Ventricle': 772.4, '4th-Ventricle': 1347.1, 'Brain-Stem': 21875.2, 'Left-Hippocampus': 4514.0, 'Left-Amygdala': 1668.7, 'CSF': 1247.9, 'Left-Accumbens-area': 633.2, 'Left-VentralDC': 4435.7, 'Left-vessel': 16.2, 'Left-choroid-plexus': 616.3, 'Right-Lateral-Ventricle': 13840.2, 'Right-Inf-Lat-Vent': 208.0, 'Right-Cerebellum-White-Matter': 16036.7, 'Right-Cerebellum-Cortex': 57674.5, 'Right-Thalamus-Proper': 8019.1, 'Right-Caudate': 4660.2, 'Right-Putamen': 5325.5, 'Right-Pallidum': 2538.7, 'Right-Hippocampus': 4754.5, 'Right-Amygdala': 1829.9, 'Right-Accumbens-area': 635.9, 'Right-VentralDC': 4323.4, 'Right-vessel': 17.4, 'Right-choroid-plexus': 542.5, '5th-Ventricle': 0.0, 'WM-hypointensities': 3798.6, 'Left-WM-hypointensities': 0.0, 'Right-WM-hypointensities': 0.0, 'non-WM-hypointensities': 0.0, 'Left-non-WM-hypointensities': 0.0, 'Right-non-WM-hypointensities': 0.0, 'Optic-Chiasm': 237.1, 'CC_Posterior': 1400.8, 'CC_Mid_Posterior': 880.6, 'CC_Central': 704.4, 'CC_Mid_Anterior': 558.9, 'CC_Anterior': 1335.9}\n"
     ]
    }
   ],
   "source": [
    "fsvolumedict = create_volume_dict([lhstats_df, rhstats_df, subcortstats_df], ordering=['lh-', 'rh-', ''])\n",
    "\n",
    "print(fsvolumedict)"
   ]
  },
  {
   "cell_type": "code",
   "execution_count": 30,
   "metadata": {},
   "outputs": [],
   "source": [
    "class RegionIndexMapping(object):\n",
    "    \"\"\"\n",
    "    Class wrapper for a region index mapping.\n",
    "\n",
    "    This maps each index of the source file to an index in the corresponding look up table.\n",
    "    \"\"\"\n",
    "\n",
    "    def __init__(self, color_lut_src_file: os.PathLike, color_lut_trg_file: os.PathLike):\n",
    "        \"\"\"\n",
    "        :param color_lut_src_file: The source lookup table\n",
    "        :param color_lut_trg_file: The target's lookup table.\n",
    "        \"\"\"\n",
    "        self.src_table = ColorLut(color_lut_src_file)\n",
    "        self.trg_table = ColorLut(color_lut_trg_file)\n",
    "\n",
    "        names_to_trg = dict(zip(self.trg_table.names, self.trg_table.inds))\n",
    "\n",
    "        self.src_to_trg = dict()\n",
    "        for src_ind, src_name in zip(self.src_table.inds, self.src_table.names):\n",
    "            trg_ind = names_to_trg.get(src_name, None)\n",
    "            if trg_ind is not None:\n",
    "                self.src_to_trg[src_ind] = trg_ind\n",
    "\n",
    "        self.unknown_ind = names_to_trg.get('Unknown', 0)  # zero as the default unknown area\n",
    "\n",
    "    def source_to_target(self, index):\n",
    "        return self.src_to_trg.get(index, self.unknown_ind)\n",
    "    \n",
    "class ColorLut(object):\n",
    "    \"\"\"\n",
    "    Class wrapper for the color lookup table.\n",
    "\n",
    "    each column represents:\n",
    "    id, name, R, G, B, A, shortname\n",
    "    \"\"\"\n",
    "\n",
    "    def __init__(self, filename: os.PathLike):\n",
    "        table = np.genfromtxt(os.fspath(filename), encoding=\"latin1\", dtype=None)\n",
    "        if len(table.dtype) == 6:\n",
    "            # id name R G B A\n",
    "            self.inds = table[table.dtype.names[0]]\n",
    "            self.names = table[table.dtype.names[1]].astype('U')\n",
    "            self.r = table[table.dtype.names[2]]\n",
    "            self.g = table[table.dtype.names[3]]\n",
    "            self.b = table[table.dtype.names[4]]\n",
    "            self.a = table[table.dtype.names[5]]\n",
    "            self.shortnames = np.zeros(len(self.names), dtype='U')\n",
    "\n",
    "        elif len(table.dtype) == 7:\n",
    "            # id shortname name R G B A\n",
    "            self.inds = table[table.dtype.names[0]]\n",
    "            self.shortnames = table[table.dtype.names[1]].astype('U')\n",
    "            self.names = table[table.dtype.names[2]].astype('U')\n",
    "            self.r = table[table.dtype.names[3]]\n",
    "            self.g = table[table.dtype.names[4]]\n",
    "            self.b = table[table.dtype.names[5]]\n",
    "            self.a = table[table.dtype.names[6]]\n"
   ]
  },
  {
   "cell_type": "code",
   "execution_count": 32,
   "metadata": {},
   "outputs": [],
   "source": [
    "fslut = ColorLut(srclutfile)\n",
    "mrtlut = ColorLut(trglutfile)\n",
    "regionmapping = RegionIndexMapping(srclutfile, trglutfile)"
   ]
  },
  {
   "cell_type": "code",
   "execution_count": 33,
   "metadata": {},
   "outputs": [
    {
     "name": "stdout",
     "output_type": "stream",
     "text": [
      "dict_keys([0, 8, 10, 11, 12, 13, 17, 18, 26, 47, 49, 50, 51, 52, 53, 54, 58, 1001, 1002, 1003, 1005, 1006, 1007, 1008, 1009, 1010, 1011, 1012, 1013, 1014, 1015, 1016, 1017, 1018, 1019, 1020, 1021, 1022, 1023, 1024, 1025, 1026, 1027, 1028, 1029, 1030, 1031, 1032, 1033, 1034, 1035, 2001, 2002, 2003, 2005, 2006, 2007, 2008, 2009, 2010, 2011, 2012, 2013, 2014, 2015, 2016, 2017, 2018, 2019, 2020, 2021, 2022, 2023, 2024, 2025, 2026, 2027, 2028, 2029, 2030, 2031, 2032, 2033, 2034, 2035])\n"
     ]
    }
   ],
   "source": [
    "print(regionmapping.src_to_trg.keys())"
   ]
  },
  {
   "cell_type": "code",
   "execution_count": 51,
   "metadata": {},
   "outputs": [
    {
     "name": "stdout",
     "output_type": "stream",
     "text": [
      "34 34 45\n"
     ]
    }
   ],
   "source": [
    "lhinds = []\n",
    "rhinds = []\n",
    "subcortinds = subcortstats_df.segindices\n",
    "\n",
    "# find indices for all cortical structure\n",
    "for name in lhstats_df.names:\n",
    "    # find name in FS LUT File\n",
    "    ind = [fslut.inds[ind] for ind, structname in enumerate(fslut.names) \\\n",
    "           if 'ctx-lh-'+name in structname.lower()]\n",
    "    lhinds.extend(ind)\n",
    "    \n",
    "# find indices for all cortical structure\n",
    "for name in rhstats_df.names:\n",
    "    # find name in FS LUT File\n",
    "    ind = [fslut.inds[ind] for ind, structname in enumerate(fslut.names) \\\n",
    "           if 'ctx-rh-'+name in structname.lower()]\n",
    "    rhinds.extend(ind)\n",
    "    \n",
    "    \n",
    "print(len(rhinds), len(lhinds), len(subcortinds))"
   ]
  },
  {
   "cell_type": "code",
   "execution_count": 55,
   "metadata": {},
   "outputs": [
    {
     "name": "stdout",
     "output_type": "stream",
     "text": [
      "[50, 51, 52, 53, 54, 55, 56, 57, 58, 59, 60, 61, 62, 63, 64, 65, 66, 67, 68, 69, 70, 71, 72, 73, 74, 75, 76, 77, 78, 79, 80, 81, 82, 83, 1, 2, 3, 4, 5, 6, 7, 8, 9, 10, 11, 12, 13, 14, 15, 16, 17, 18, 19, 20, 21, 22, 23, 24, 25, 26, 27, 28, 29, 30, 31, 32, 33, 34, 0, 0, 0, 35, 36, 37, 38, 39, 0, 0, 0, 40, 41, 0, 42, 0, 0, 0, 0, 0, 0, 84, 43, 44, 45, 46, 47, 48, 49, 0, 0, 0, 0, 0, 0, 0, 0, 0, 0, 0, 0, 0, 0, 0, 0]\n"
     ]
    }
   ],
   "source": [
    "srcinds = np.concatenate((rhinds, lhinds, subcortinds))\n",
    "\n",
    "trginds = []\n",
    "for ind in srcinds:\n",
    "    trginds.append(regionmapping.source_to_target(ind))\n",
    "    \n",
    "print(trginds)"
   ]
  },
  {
   "cell_type": "code",
   "execution_count": 57,
   "metadata": {},
   "outputs": [],
   "source": []
  },
  {
   "cell_type": "code",
   "execution_count": 61,
   "metadata": {},
   "outputs": [
    {
     "ename": "IndexError",
     "evalue": "index 1001 is out of bounds for axis 0 with size 34",
     "output_type": "error",
     "traceback": [
      "\u001b[0;31m---------------------------------------------------------------------------\u001b[0m",
      "\u001b[0;31mIndexError\u001b[0m                                Traceback (most recent call last)",
      "\u001b[0;32m<ipython-input-61-96b263b81199>\u001b[0m in \u001b[0;36m<module>\u001b[0;34m\u001b[0m\n\u001b[0;32m----> 1\u001b[0;31m \u001b[0mlh_volumes\u001b[0m \u001b[0;34m=\u001b[0m \u001b[0mcreate_summary_stats\u001b[0m\u001b[0;34m(\u001b[0m\u001b[0mlhinds\u001b[0m\u001b[0;34m,\u001b[0m \u001b[0mlhstats_df\u001b[0m\u001b[0;34m)\u001b[0m\u001b[0;34m\u001b[0m\u001b[0;34m\u001b[0m\u001b[0m\n\u001b[0m\u001b[1;32m      2\u001b[0m \u001b[0;34m\u001b[0m\u001b[0m\n\u001b[1;32m      3\u001b[0m \u001b[0mprint\u001b[0m\u001b[0;34m(\u001b[0m\u001b[0mlh_volumes\u001b[0m\u001b[0;34m)\u001b[0m\u001b[0;34m\u001b[0m\u001b[0;34m\u001b[0m\u001b[0m\n",
      "\u001b[0;32m<ipython-input-57-b24839cdcc39>\u001b[0m in \u001b[0;36mcreate_summary_stats\u001b[0;34m(inds, statsobj)\u001b[0m\n\u001b[1;32m      4\u001b[0m     \u001b[0;31m# for each of the indices, create metric measurements lists\u001b[0m\u001b[0;34m\u001b[0m\u001b[0;34m\u001b[0m\u001b[0;34m\u001b[0m\u001b[0m\n\u001b[1;32m      5\u001b[0m     \u001b[0;32mfor\u001b[0m \u001b[0mind\u001b[0m \u001b[0;32min\u001b[0m \u001b[0minds\u001b[0m\u001b[0;34m:\u001b[0m\u001b[0;34m\u001b[0m\u001b[0;34m\u001b[0m\u001b[0m\n\u001b[0;32m----> 6\u001b[0;31m         \u001b[0mvolumes\u001b[0m\u001b[0;34m[\u001b[0m\u001b[0mstatsobj\u001b[0m\u001b[0;34m.\u001b[0m\u001b[0mnames\u001b[0m\u001b[0;34m[\u001b[0m\u001b[0mind\u001b[0m\u001b[0;34m]\u001b[0m\u001b[0;34m]\u001b[0m \u001b[0;34m=\u001b[0m \u001b[0mstatsobj\u001b[0m\u001b[0;34m.\u001b[0m\u001b[0mvolumes\u001b[0m\u001b[0;34m[\u001b[0m\u001b[0mind\u001b[0m\u001b[0;34m]\u001b[0m\u001b[0;34m\u001b[0m\u001b[0;34m\u001b[0m\u001b[0m\n\u001b[0m\u001b[1;32m      7\u001b[0m \u001b[0;34m\u001b[0m\u001b[0m\n\u001b[1;32m      8\u001b[0m     \u001b[0;32mreturn\u001b[0m \u001b[0mvolumes\u001b[0m\u001b[0;34m\u001b[0m\u001b[0;34m\u001b[0m\u001b[0m\n",
      "\u001b[0;31mIndexError\u001b[0m: index 1001 is out of bounds for axis 0 with size 34"
     ]
    }
   ],
   "source": [
    "lh_volumes = create_summary_stats(lhinds, lhstats_df)\n",
    "\n",
    "print(lh_volumes)"
   ]
  },
  {
   "cell_type": "code",
   "execution_count": null,
   "metadata": {},
   "outputs": [],
   "source": []
  }
 ],
 "metadata": {
  "kernelspec": {
   "display_name": "neuroimgpipe",
   "language": "python",
   "name": "neuroimgpipe"
  },
  "language_info": {
   "codemirror_mode": {
    "name": "ipython",
    "version": 3
   },
   "file_extension": ".py",
   "mimetype": "text/x-python",
   "name": "python",
   "nbconvert_exporter": "python",
   "pygments_lexer": "ipython3",
   "version": "3.6.7"
  }
 },
 "nbformat": 4,
 "nbformat_minor": 2
}
